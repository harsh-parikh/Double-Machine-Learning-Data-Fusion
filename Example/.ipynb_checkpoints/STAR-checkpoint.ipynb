{
 "cells": [
  {
   "cell_type": "markdown",
   "id": "a38cb203",
   "metadata": {},
   "source": [
    "# Setup"
   ]
  },
  {
   "cell_type": "code",
   "execution_count": 5,
   "id": "e11cee75",
   "metadata": {
    "tags": []
   },
   "outputs": [],
   "source": [
    "import numpy as np\n",
    "import pandas as pd\n",
    "import seaborn as sns\n",
    "import os\n",
    "import matplotlib.pyplot as plt\n",
    "import warnings\n",
    "from scipy.stats import norm\n",
    "from tqdm import tqdm\n",
    "warnings.filterwarnings(\"ignore\")\n",
    "\n",
    "import sklearn.linear_model as lm\n",
    "\n",
    "os.chdir('../')\n",
    "import dml_test\n",
    "os.chdir('Example')\n",
    "sns.set(font_scale=2,style='whitegrid')\n",
    "np.random.seed(0)"
   ]
  },
  {
   "cell_type": "markdown",
   "id": "6063245b-d776-43fc-9e5d-365f17bf23a3",
   "metadata": {},
   "source": [
    "## Loading STAR Dataset"
   ]
  },
  {
   "cell_type": "code",
   "execution_count": 6,
   "id": "a5222527-b450-4cbe-aac0-70aa05e52c8f",
   "metadata": {
    "tags": []
   },
   "outputs": [],
   "source": [
    "STAR_High_School = pd.read_spss('PROJECTSTAR/STAR_High_Schools.sav')\n",
    "STAR_K3_School = pd.read_spss('PROJECTSTAR/STAR_K-3_Schools.sav').set_index('schid')\n",
    "STAR_Students = pd.read_spss('PROJECTSTAR/STAR_Students.sav').set_index('stdntid')\n",
    "Comparison_Students = pd.read_spss('PROJECTSTAR/Comparison_Students.sav').set_index('stdntid')\n",
    "\n",
    "# pre-treatment covariates\n",
    "gk_cols = list(filter(lambda x: 'gk' in x, STAR_Students.columns))\n",
    "g1_cols = list(filter(lambda x: 'g1' in x, STAR_Students.columns))\n",
    "g2_cols = list(filter(lambda x: 'g2' in x, STAR_Students.columns))\n",
    "g3_cols = list(filter(lambda x: 'g3' in x, STAR_Students.columns))\n",
    "g_cols = gk_cols+g1_cols+g2_cols+g3_cols\n",
    "\n",
    "personal_cols = ['gender','race','birthyear']\n",
    "\n",
    "cols_cond = ['surban',\n",
    "            'tgen',\n",
    "            'trace',\n",
    "            'thighdegree',\n",
    "            'tcareer',\n",
    "            'tyears',\n",
    "            'classsize',\n",
    "            'freelunch']\n",
    "\n",
    "class_sizes = ['g1classsize',\n",
    "             'g2classsize']\n",
    "\n",
    "g3scores = ['g3treadss',\n",
    "            'g3tmathss',\n",
    "            'g3tlangss',\n",
    "            'g3socialsciss']\n",
    "\n",
    "g_cols_cond = list(filter(lambda s: np.sum(list(map(lambda x: x in s,cols_cond)))>0,g_cols))\n",
    "df_exp = STAR_Students[personal_cols]#+class_sizes]\n",
    "df_exp['Sample'] = 1\n",
    "df_exp['g3avgscore'] = STAR_Students[g3scores].mean(axis=1)\n",
    "df_exp['g3smallclass'] = (STAR_Students['g3classsize']<=17).astype(int)\n",
    "\n",
    "df_obs = Comparison_Students[personal_cols]#+class_sizes]\n",
    "df_obs['Sample'] = 0\n",
    "df_obs['g3avgscore'] = Comparison_Students[g3scores].mean(axis=1)\n",
    "df_obs['g3smallclass'] = (Comparison_Students['g3classsize']<=17).astype(int)\n",
    "\n",
    "df = df_exp.append(df_obs)\n",
    "df_no_na = df.dropna()\n",
    "\n",
    "df_no_na_dummified = pd.get_dummies(df_no_na,columns=['gender','race'],drop_first=True)"
   ]
  },
  {
   "cell_type": "markdown",
   "id": "83bd4380",
   "metadata": {},
   "source": [
    "# DML Test"
   ]
  },
  {
   "cell_type": "code",
   "execution_count": 7,
   "id": "c0a6edac",
   "metadata": {
    "tags": []
   },
   "outputs": [],
   "source": [
    "N = df_no_na_dummified.shape[0]\n",
    "df_mu, df_nu, df_p, df_pi_exp, df_pi_obs, df = dml_test.fit(Y='g3avgscore',T='g3smallclass', S='Sample',\n",
    "                                                            df=df_no_na_dummified,\n",
    "                                                            n_splits = 5)\n",
    "psi = dml_test.Psi(df_mu, df_nu, df_p, df_pi_exp, df_pi_obs, df, 'g3avgscore', 'g3smallclass','Sample')\n",
    "p_val = dml_test.dml_pval( psi)"
   ]
  },
  {
   "cell_type": "code",
   "execution_count": 13,
   "id": "3d4af999",
   "metadata": {
    "tags": []
   },
   "outputs": [
    {
     "name": "stdout",
     "output_type": "stream",
     "text": [
      "p(1) = 0.0005, p(0) = 0.2408\n"
     ]
    }
   ],
   "source": [
    "print('p(1) = %.4f, p(0) = %.4f'%(p_val[0],p_val[1]))"
   ]
  },
  {
   "cell_type": "markdown",
   "id": "6b2c620a",
   "metadata": {
    "tags": []
   },
   "source": [
    "# ATE Estimation"
   ]
  },
  {
   "cell_type": "code",
   "execution_count": 9,
   "id": "499720c9-db7d-41e2-a970-eae0466f9375",
   "metadata": {
    "tags": []
   },
   "outputs": [],
   "source": [
    "te = dml_test.Lambda(df_mu, df_nu, df_p, df_pi_exp, df_pi_obs, df, 'g3avgscore','g3smallclass','Sample')"
   ]
  },
  {
   "cell_type": "code",
   "execution_count": 12,
   "id": "3c5890ab-1252-435b-9151-acf58b6e0194",
   "metadata": {
    "tags": []
   },
   "outputs": [
    {
     "name": "stdout",
     "output_type": "stream",
     "text": [
      "ATE: 5.7493 ± 2.6229\n"
     ]
    }
   ],
   "source": [
    "print(r\"ATE: %.4f ± %.4f\"%(np.mean(te,axis=0)[0]- np.mean(te,axis=0)[1], 1.96*(np.std(te,axis=0)[0] + np.std(te,axis=0)[1])/np.sqrt(df.shape[0])))"
   ]
  }
 ],
 "metadata": {
  "kernelspec": {
   "display_name": "Python 3 (ipykernel)",
   "language": "python",
   "name": "python3"
  },
  "language_info": {
   "codemirror_mode": {
    "name": "ipython",
    "version": 3
   },
   "file_extension": ".py",
   "mimetype": "text/x-python",
   "name": "python",
   "nbconvert_exporter": "python",
   "pygments_lexer": "ipython3",
   "version": "3.10.9"
  }
 },
 "nbformat": 4,
 "nbformat_minor": 5
}
